{
 "cells": [
  {
   "cell_type": "markdown",
   "id": "equipped-drilling",
   "metadata": {},
   "source": [
    "# Problem sheet 2 - Q4: Naive Bayes and SVM\n",
    "\n",
    "1. [Preprocessing](#1)\n",
    "2. [MLEs for Multinomial NB](#2)\n",
    "3. [Posterior probabilities](#3)\n",
    "4. [Scoring functions](#4)\n",
    "5. [Computing NB distributions and prediction](#5)\n",
    "6. [SVM with Simple SMO](#6)\n",
    "7. [Train and predict with SVM](#7)\n",
    "8. [Comparison with sklearn](#8)\n",
    "9. [Next steps](#9)\n",
    "\n",
    "The objective of the question is to investigate the relative performance of Naive Bayes and SVM classifiers with respect to the size of the training set. We do this with the classic task of spam classification, where NB is generally expected to perform very well. In this notebook we will implement both of these algorithms from scratch, train them on the [SMS spam classification dataset](http://archive.ics.uci.edu/ml/datasets/SMS+Spam+Collection) (which we will have to preprocess) from the UCI Machine Learning Repository and plot the accuracy of these algorithms as a function of the size of the training set. We will also compare the results of our algorithms to the corresponding ones from `sklearn`. Note also that we decided to implement the multinomial variant of Naive Bayes. This means we also track the frequencies of words rather than just their presence. It is perhaps not so useful for short messages like SMS, but if we apply the same model to longer texts, such as emails, it is plausible that the multinomial model could perform better than the standard Bernoulli one."
   ]
  },
  {
   "cell_type": "markdown",
   "id": "daily-shift",
   "metadata": {},
   "source": [
    "## 1. Preprocessing <a id=\"1\"></a>"
   ]
  },
  {
   "cell_type": "code",
   "execution_count": 1,
   "id": "sorted-leone",
   "metadata": {},
   "outputs": [
    {
     "data": {
      "text/html": [
       "<div>\n",
       "<style scoped>\n",
       "    .dataframe tbody tr th:only-of-type {\n",
       "        vertical-align: middle;\n",
       "    }\n",
       "\n",
       "    .dataframe tbody tr th {\n",
       "        vertical-align: top;\n",
       "    }\n",
       "\n",
       "    .dataframe thead th {\n",
       "        text-align: right;\n",
       "    }\n",
       "</style>\n",
       "<table border=\"1\" class=\"dataframe\">\n",
       "  <thead>\n",
       "    <tr style=\"text-align: right;\">\n",
       "      <th></th>\n",
       "      <th>spam_class</th>\n",
       "      <th>spam_text</th>\n",
       "    </tr>\n",
       "  </thead>\n",
       "  <tbody>\n",
       "    <tr>\n",
       "      <th>0</th>\n",
       "      <td>ham</td>\n",
       "      <td>Go until jurong point, crazy.. Available only ...</td>\n",
       "    </tr>\n",
       "    <tr>\n",
       "      <th>1</th>\n",
       "      <td>ham</td>\n",
       "      <td>Ok lar... Joking wif u oni...</td>\n",
       "    </tr>\n",
       "    <tr>\n",
       "      <th>2</th>\n",
       "      <td>spam</td>\n",
       "      <td>Free entry in 2 a wkly comp to win FA Cup fina...</td>\n",
       "    </tr>\n",
       "    <tr>\n",
       "      <th>3</th>\n",
       "      <td>ham</td>\n",
       "      <td>U dun say so early hor... U c already then say...</td>\n",
       "    </tr>\n",
       "    <tr>\n",
       "      <th>4</th>\n",
       "      <td>ham</td>\n",
       "      <td>Nah I don't think he goes to usf, he lives aro...</td>\n",
       "    </tr>\n",
       "  </tbody>\n",
       "</table>\n",
       "</div>"
      ],
      "text/plain": [
       "  spam_class                                          spam_text\n",
       "0        ham  Go until jurong point, crazy.. Available only ...\n",
       "1        ham                      Ok lar... Joking wif u oni...\n",
       "2       spam  Free entry in 2 a wkly comp to win FA Cup fina...\n",
       "3        ham  U dun say so early hor... U c already then say...\n",
       "4        ham  Nah I don't think he goes to usf, he lives aro..."
      ]
     },
     "execution_count": 1,
     "metadata": {},
     "output_type": "execute_result"
    }
   ],
   "source": [
    "%matplotlib inline\n",
    "import pandas as pd\n",
    "import numpy as np\n",
    "import matplotlib.pyplot as plt\n",
    "import seaborn as sns\n",
    "from scipy.sparse import load_npz\n",
    "from skmultilearn.dataset import load_from_arff\n",
    "\n",
    "# you have to provide the dataset from the above url yourself:\n",
    "data = pd.read_csv('smsspamcollection/SMSSpamCollection', sep='\\t', names=['spam_class', 'spam_text'])\n",
    "data.head()"
   ]
  },
  {
   "cell_type": "code",
   "execution_count": 2,
   "id": "incorrect-freeware",
   "metadata": {},
   "outputs": [
    {
     "data": {
      "text/plain": [
       "ham     4825\n",
       "spam     747\n",
       "Name: spam_class, dtype: int64"
      ]
     },
     "execution_count": 2,
     "metadata": {},
     "output_type": "execute_result"
    }
   ],
   "source": [
    "data.spam_class.value_counts()"
   ]
  },
  {
   "cell_type": "markdown",
   "id": "arabic-lighter",
   "metadata": {},
   "source": [
    "We notice that the classes are very unbalanced so we make sure to split the training and validation data in a stratified manner. This is far from perfect though and in reality we could try to assign class weights or, better yet, use a test set with balanced classes to accurately measure our performance. However, we leave this for future work.\n",
    "\n",
    "The raw data seen above has to be processed into a format suitable for text classification. Below we first map the target to 1 for spam messages and -1 for non-spam and then remove all unnecessary punctuation and (a limited) amount of stop words. Finally we use the native python ``Counter`` class to keep track of the frequencies of words in each message in order to construct our feature vectors."
   ]
  },
  {
   "cell_type": "code",
   "execution_count": 3,
   "id": "responsible-ending",
   "metadata": {
    "scrolled": true
   },
   "outputs": [],
   "source": [
    "from collections import Counter\n",
    "\n",
    "df = data.copy()\n",
    "df['spam_class'] = df['spam_class'].map({'ham': -1, 'spam': 1})\n",
    "df['spam_text'] = df['spam_text'].apply(lambda s: \"\".join([c for c in s if c not in \",.;:?!*()[]{}\\'\\\"&_<>/\\\\\"]).lower())\n",
    "stop_words = ['a', 'an', 'the', 'is', 'it', 'he', 'she', 'us', 'we', 'you', 'your', 'me', 'i', 'him', 'her']\n",
    "df['spam_text'] = df['spam_text'].apply(lambda s: \" \".join([w for w in s.split() if w not in stop_words]))\n",
    "\n",
    "counts = pd.DataFrame([Counter(s.split()) for s in df['spam_text']]).fillna(0).astype('int')\n",
    "df = df.join(counts)"
   ]
  },
  {
   "cell_type": "markdown",
   "id": "unavailable-valve",
   "metadata": {},
   "source": [
    "We use a random sample of 20% of our data as the validation set. From the remaining 80% we create train sets of various sizes by independent sampling."
   ]
  },
  {
   "cell_type": "code",
   "execution_count": 4,
   "id": "driven-spider",
   "metadata": {},
   "outputs": [],
   "source": [
    "from sklearn.model_selection import train_test_split\n",
    "\n",
    "# seed for all of our random number generators\n",
    "rng_seed = 1\n",
    "\n",
    "X = df.drop(columns=['spam_text', 'spam_class'])\n",
    "y = df.spam_class\n",
    "\n",
    "X_train, X_val, y_train, y_val = train_test_split(X,\n",
    "                                                  y,\n",
    "                                                  train_size=.8,\n",
    "                                                  stratify=y,\n",
    "                                                  random_state=rng_seed)\n",
    "\n",
    "X_train = np.array(X_train)\n",
    "y_train = np.array(y_train)\n",
    "X_val = np.array(X_val)\n",
    "y_val = np.array(y_val)"
   ]
  },
  {
   "cell_type": "code",
   "execution_count": 5,
   "id": "informational-result",
   "metadata": {
    "scrolled": true
   },
   "outputs": [
    {
     "data": {
      "text/plain": [
       "0.1994645247657296"
      ]
     },
     "execution_count": 5,
     "metadata": {},
     "output_type": "execute_result"
    }
   ],
   "source": [
    "np.sum(y_val == 1) / np.sum(y == 1)"
   ]
  },
  {
   "cell_type": "markdown",
   "id": "acquired-enlargement",
   "metadata": {},
   "source": [
    "We see that the stratified split dedicated about 20% of the rare events (spam) into our validation set, as expected. For the actual training sets we do not do any conditioning on the presence of particular labels in y. This is because even with very unbalanced and small datasets we would expect NB to do very well because of the strong priors and we want to compare this performance to SVM."
   ]
  },
  {
   "cell_type": "code",
   "execution_count": 6,
   "id": "colored-baking",
   "metadata": {},
   "outputs": [],
   "source": [
    "# now create train sets of different sizes:\n",
    "\n",
    "train_size = [25, 50, 100, 200, 300, 400, 500, 750, 1000, 1250, 1500, 1750, 2000, 2250, 2500]\n",
    "\n",
    "X_trains = {}\n",
    "y_trains = {}\n",
    "\n",
    "i = 0\n",
    "\n",
    "for size in train_size:\n",
    "    gen = np.random.default_rng(rng_seed + i)\n",
    "    rows = gen.choice(len(X_train), size=size)\n",
    "    X_trains[size] = X_train[rows]\n",
    "    y_trains[size] = y_train[rows]\n",
    "    i += 1\n",
    "\n",
    "results = pd.DataFrame(data=None, index=train_size)\n",
    "models = ['NB', 'SVM']\n",
    "scores = pd.DataFrame(data=None, index=pd.MultiIndex.from_product([models, train_size],\n",
    "                                                                  names=['model', 'train_size']),\n",
    "                     columns=['TP', 'FP', 'FN', 'TN', 'accuracy', 'precision', 'recall', 'specificity', 'F1'], dtype='float')"
   ]
  },
  {
   "cell_type": "code",
   "execution_count": 7,
   "id": "legendary-omega",
   "metadata": {},
   "outputs": [
    {
     "data": {
      "image/png": "[encoded data removed]",
      "text/plain": [
       "<Figure size 432x288 with 1 Axes>"
      ]
     },
     "metadata": {
      "needs_background": "light"
     },
     "output_type": "display_data"
    }
   ],
   "source": [
    "spam_frac = [np.sum(y_trains[size]==1) / size for size in train_size]\n",
    "plt.bar(np.arange(len(train_size)), spam_frac, tick_label=train_size)\n",
    "plt.xticks(rotation=45)\n",
    "plt.xlabel('Train size')\n",
    "plt.ylabel('Spam (%)')\n",
    "plt.show()"
   ]
  },
  {
   "cell_type": "markdown",
   "id": "present-nepal",
   "metadata": {},
   "source": [
    "It seems the proportion of spam in most training sets is about uniform."
   ]
  },
  {
   "cell_type": "markdown",
   "id": "requested-damages",
   "metadata": {},
   "source": [
    "## 2. MLEs for Multinomial NB <a id=\"2\"></a>\n",
    "\n",
    "First we compute the maximum likelihood estimates for multinomial Naive Bayes. Recall that our goal is to estimate\n",
    "$p(y|x)$, where $x=(x_{1},\\ldots,x_{n})^{T}$ is a feature vector of size equal to the number of words in our dictionary and $\\sum x_{i}=\\text{length of message}$. We make two (strong) assumptions:\n",
    "1. *Conditional independence*: the random variables $x_{i}|y$ are mutually independent for all $i$.\n",
    "2. *Prior probabilities*: $x|y=j\\sim\\mathrm{Multinomial}(n, \\mathbf{p}_{j})$, where the vector $\\mathbf{p}_{j}$ consists of probabilities that each word occurs in spam ($y=1)$ or non-spam ($y=-1$).\n",
    "\n",
    "Finally, we also assume that $y\\sim\\mathrm{Bernoulli}(p_{y})$. Below we define a function that computes the maximum likelihood estimates of these parameters with an additional smoothing parameter (to prevent zero probabilities)."
   ]
  },
  {
   "cell_type": "code",
   "execution_count": 8,
   "id": "possible-colony",
   "metadata": {},
   "outputs": [],
   "source": [
    "def compute_MLEs(X, y):\n",
    "    # with Laplace smoothing\n",
    "    smoothing = 1.0\n",
    "    # m = number of training examples\n",
    "    # n = number of features\n",
    "    m, n = X.shape\n",
    "    spam_count = np.sum(y[np.where(y == 1)])\n",
    "    nonspam_count = m - spam_count\n",
    "    \n",
    "    p_y = spam_count / m\n",
    "    \n",
    "    p_j0 = (np.sum(X[np.nonzero(y.ravel() == -1)[0], :], axis=0) + smoothing) / (np.sum(X) + smoothing * n)\n",
    "    p_j1 = (np.sum(X[np.nonzero(y.ravel() == 1)[0], :], axis=0) + smoothing) / (np.sum(X) + smoothing * n)\n",
    "    \n",
    "    return p_j1, p_j0, p_y"
   ]
  },
  {
   "cell_type": "markdown",
   "id": "vertical-reader",
   "metadata": {},
   "source": [
    "## 3. Posterior probabilities <a id=\"3\"></a>\n",
    "\n",
    "Once we have the parameters, we can compute the posterior probability $p(y=j|x)$ through Bayes' theorem. There are a few simplifications we make in order to increase the efficiency of the algorithm. First, in the pdf of $x|y=j$ (which is $(\\sum x_{i})! / (\\prod x_{i}! \\prod p_{j, i}^{x_{i}})$) we can ignore the factorials since in terms of our optimisation problem they are constants. In the same way, we can also ignore the denominator of the posterior probability (i.e. $p(x)$) after applying Bayes' theorem. Further, we also choose to work with $\\log$-probabilities, because a) it makes the computations inside our classifier linear, b) it decreases the numerical precision that we have to use for the same level of accuracy. For the sake of comparison we have also included the code for the standard hypothesis function (with actual probabilities) inside the comment below."
   ]
  },
  {
   "cell_type": "code",
   "execution_count": 9,
   "id": "affiliated-behavior",
   "metadata": {},
   "outputs": [],
   "source": [
    "#def predict(X, p_j1, p_j0, p_y):\n",
    "#    p_x_given_y1 = np.prod(np.power(p_j1, X, dtype='float128'),axis=1) * p_y\n",
    "#    p_x_given_y0 = np.prod(np.power(p_j0, X, dtype='float128'),axis=1) * (1 - p_y)\n",
    "#    spam_prop = np.divide(p_x_given_y1, p_x_given_y1 + p_x_given_y0)\n",
    "#    pred = np.ones(spam_prop.shape)\n",
    "#    pred[np.where(spam_prop <= 0.5)] = -1\n",
    "#    return pred\n",
    "\n",
    "def predict_logs(X, p_j1, p_j0, p_y):\n",
    "    p_x_given_y1 = np.sum(np.multiply(np.log(p_j1), X, dtype='float64'), axis=1) + np.log(p_y)\n",
    "    p_x_given_y0 = np.sum(np.multiply(np.log(p_j0), X, dtype='float64'), axis=1) + np.log(1 - p_y)\n",
    "    \n",
    "    pred = np.ones(X.shape[0])\n",
    "    pred[np.nonzero(p_x_given_y0 > p_x_given_y1)] = -1\n",
    "    return pred"
   ]
  },
  {
   "cell_type": "markdown",
   "id": "adolescent-juvenile",
   "metadata": {},
   "source": [
    "## 4. Scoring functions <a id=\"4\"></a>\n",
    "\n",
    "The evaluation metric we choose to use is just the proportion of misclassifications (i.e. $1-\\text{accuracy}$). We will also keep track of all the standard quantities for evaluating a classifier performance (precision, recall, $F1$-score etc.)."
   ]
  },
  {
   "cell_type": "code",
   "execution_count": 10,
   "id": "preliminary-grammar",
   "metadata": {},
   "outputs": [],
   "source": [
    "def getScore(preds, y):\n",
    "    # returns error rate (%)\n",
    "    return 100 * np.sum(preds.ravel() != y.ravel()) / len(preds)\n",
    "\n",
    "\n",
    "def confusionMatrix(pred, y):   \n",
    "    m = len(y)\n",
    "    \n",
    "    pos_idx = np.nonzero(y == 1)\n",
    "    neg_idx = np.nonzero(y == -1)\n",
    "    \n",
    "    TP = np.sum(pred[pos_idx] == 1)\n",
    "    TN = np.sum(pred[neg_idx] == -1)\n",
    "    # Type 1 error\n",
    "    FP = np.sum(pred == 1) - TP\n",
    "    # Type 2 error\n",
    "    FN = np.sum(pred == -1) - TN\n",
    "    \n",
    "    accuracy = (TP + TN) / m\n",
    "    precision = TP / (TP + FP)\n",
    "    recall = TP / (TP + FN)\n",
    "    specificity = TN / (TN + FP)\n",
    "    F1 = 2 * precision * recall / (precision + recall)\n",
    "    \n",
    "    return {'TP': TP, 'FP': FP, 'FN': FN, 'TN': TN, 'accuracy': accuracy, 'precision': precision, 'recall': recall, 'specificity': specificity, 'F1': F1}"
   ]
  },
  {
   "cell_type": "markdown",
   "id": "bored-magnitude",
   "metadata": {},
   "source": [
    "## 5. Computing NB distributions and prediction <a id=\"5\"></a>"
   ]
  },
  {
   "cell_type": "code",
   "execution_count": 11,
   "id": "small-output",
   "metadata": {},
   "outputs": [
    {
     "name": "stderr",
     "output_type": "stream",
     "text": [
      "<ipython-input-10-f9a662f0f778>:23: RuntimeWarning: invalid value encountered in double_scalars\n",
      "  F1 = 2 * precision * recall / (precision + recall)\n"
     ]
    }
   ],
   "source": [
    "for size in train_size:\n",
    "    p_j1, p_j0, p_y = compute_MLEs(X_trains[size], y_trains[size])\n",
    "    pred = predict_logs(X_val, p_j1, p_j0, p_y)\n",
    "    results.loc[size, 'scores_NB_val'] = getScore(pred, y_val)\n",
    "    scores.loc[('NB', size)] = confusionMatrix(pred, y_val)\n",
    "    # let's also get the train errors\n",
    "    pred = predict_logs(X_trains[size], p_j1, p_j0, p_y)\n",
    "    results.loc[size, 'scores_NB_train'] = getScore(pred, y_trains[size])"
   ]
  },
  {
   "cell_type": "code",
   "execution_count": 12,
   "id": "handmade-cuisine",
   "metadata": {},
   "outputs": [
    {
     "data": {
      "text/html": [
       "<div>\n",
       "<style scoped>\n",
       "    .dataframe tbody tr th:only-of-type {\n",
       "        vertical-align: middle;\n",
       "    }\n",
       "\n",
       "    .dataframe tbody tr th {\n",
       "        vertical-align: top;\n",
       "    }\n",
       "\n",
       "    .dataframe thead th {\n",
       "        text-align: right;\n",
       "    }\n",
       "</style>\n",
       "<table border=\"1\" class=\"dataframe\">\n",
       "  <thead>\n",
       "    <tr style=\"text-align: right;\">\n",
       "      <th></th>\n",
       "      <th>TP</th>\n",
       "      <th>FP</th>\n",
       "      <th>FN</th>\n",
       "      <th>TN</th>\n",
       "      <th>accuracy</th>\n",
       "      <th>precision</th>\n",
       "      <th>recall</th>\n",
       "      <th>specificity</th>\n",
       "      <th>F1</th>\n",
       "    </tr>\n",
       "    <tr>\n",
       "      <th>train_size</th>\n",
       "      <th></th>\n",
       "      <th></th>\n",
       "      <th></th>\n",
       "      <th></th>\n",
       "      <th></th>\n",
       "      <th></th>\n",
       "      <th></th>\n",
       "      <th></th>\n",
       "      <th></th>\n",
       "    </tr>\n",
       "  </thead>\n",
       "  <tbody>\n",
       "    <tr>\n",
       "      <th>25</th>\n",
       "      <td>0.0</td>\n",
       "      <td>1.0</td>\n",
       "      <td>149.0</td>\n",
       "      <td>965.0</td>\n",
       "      <td>0.865471</td>\n",
       "      <td>0.0</td>\n",
       "      <td>0.000000</td>\n",
       "      <td>0.998965</td>\n",
       "      <td>NaN</td>\n",
       "    </tr>\n",
       "    <tr>\n",
       "      <th>50</th>\n",
       "      <td>4.0</td>\n",
       "      <td>0.0</td>\n",
       "      <td>145.0</td>\n",
       "      <td>966.0</td>\n",
       "      <td>0.869955</td>\n",
       "      <td>1.0</td>\n",
       "      <td>0.026846</td>\n",
       "      <td>1.000000</td>\n",
       "      <td>0.052288</td>\n",
       "    </tr>\n",
       "    <tr>\n",
       "      <th>100</th>\n",
       "      <td>55.0</td>\n",
       "      <td>0.0</td>\n",
       "      <td>94.0</td>\n",
       "      <td>966.0</td>\n",
       "      <td>0.915695</td>\n",
       "      <td>1.0</td>\n",
       "      <td>0.369128</td>\n",
       "      <td>1.000000</td>\n",
       "      <td>0.539216</td>\n",
       "    </tr>\n",
       "    <tr>\n",
       "      <th>200</th>\n",
       "      <td>25.0</td>\n",
       "      <td>0.0</td>\n",
       "      <td>124.0</td>\n",
       "      <td>966.0</td>\n",
       "      <td>0.888789</td>\n",
       "      <td>1.0</td>\n",
       "      <td>0.167785</td>\n",
       "      <td>1.000000</td>\n",
       "      <td>0.287356</td>\n",
       "    </tr>\n",
       "    <tr>\n",
       "      <th>300</th>\n",
       "      <td>56.0</td>\n",
       "      <td>0.0</td>\n",
       "      <td>93.0</td>\n",
       "      <td>966.0</td>\n",
       "      <td>0.916592</td>\n",
       "      <td>1.0</td>\n",
       "      <td>0.375839</td>\n",
       "      <td>1.000000</td>\n",
       "      <td>0.546341</td>\n",
       "    </tr>\n",
       "    <tr>\n",
       "      <th>400</th>\n",
       "      <td>26.0</td>\n",
       "      <td>0.0</td>\n",
       "      <td>123.0</td>\n",
       "      <td>966.0</td>\n",
       "      <td>0.889686</td>\n",
       "      <td>1.0</td>\n",
       "      <td>0.174497</td>\n",
       "      <td>1.000000</td>\n",
       "      <td>0.297143</td>\n",
       "    </tr>\n",
       "    <tr>\n",
       "      <th>500</th>\n",
       "      <td>32.0</td>\n",
       "      <td>0.0</td>\n",
       "      <td>117.0</td>\n",
       "      <td>966.0</td>\n",
       "      <td>0.895067</td>\n",
       "      <td>1.0</td>\n",
       "      <td>0.214765</td>\n",
       "      <td>1.000000</td>\n",
       "      <td>0.353591</td>\n",
       "    </tr>\n",
       "    <tr>\n",
       "      <th>750</th>\n",
       "      <td>71.0</td>\n",
       "      <td>0.0</td>\n",
       "      <td>78.0</td>\n",
       "      <td>966.0</td>\n",
       "      <td>0.930045</td>\n",
       "      <td>1.0</td>\n",
       "      <td>0.476510</td>\n",
       "      <td>1.000000</td>\n",
       "      <td>0.645455</td>\n",
       "    </tr>\n",
       "    <tr>\n",
       "      <th>1000</th>\n",
       "      <td>80.0</td>\n",
       "      <td>0.0</td>\n",
       "      <td>69.0</td>\n",
       "      <td>966.0</td>\n",
       "      <td>0.938117</td>\n",
       "      <td>1.0</td>\n",
       "      <td>0.536913</td>\n",
       "      <td>1.000000</td>\n",
       "      <td>0.698690</td>\n",
       "    </tr>\n",
       "    <tr>\n",
       "      <th>1250</th>\n",
       "      <td>74.0</td>\n",
       "      <td>0.0</td>\n",
       "      <td>75.0</td>\n",
       "      <td>966.0</td>\n",
       "      <td>0.932735</td>\n",
       "      <td>1.0</td>\n",
       "      <td>0.496644</td>\n",
       "      <td>1.000000</td>\n",
       "      <td>0.663677</td>\n",
       "    </tr>\n",
       "    <tr>\n",
       "      <th>1500</th>\n",
       "      <td>72.0</td>\n",
       "      <td>0.0</td>\n",
       "      <td>77.0</td>\n",
       "      <td>966.0</td>\n",
       "      <td>0.930942</td>\n",
       "      <td>1.0</td>\n",
       "      <td>0.483221</td>\n",
       "      <td>1.000000</td>\n",
       "      <td>0.651584</td>\n",
       "    </tr>\n",
       "    <tr>\n",
       "      <th>1750</th>\n",
       "      <td>82.0</td>\n",
       "      <td>0.0</td>\n",
       "      <td>67.0</td>\n",
       "      <td>966.0</td>\n",
       "      <td>0.939910</td>\n",
       "      <td>1.0</td>\n",
       "      <td>0.550336</td>\n",
       "      <td>1.000000</td>\n",
       "      <td>0.709957</td>\n",
       "    </tr>\n",
       "    <tr>\n",
       "      <th>2000</th>\n",
       "      <td>73.0</td>\n",
       "      <td>0.0</td>\n",
       "      <td>76.0</td>\n",
       "      <td>966.0</td>\n",
       "      <td>0.931839</td>\n",
       "      <td>1.0</td>\n",
       "      <td>0.489933</td>\n",
       "      <td>1.000000</td>\n",
       "      <td>0.657658</td>\n",
       "    </tr>\n",
       "    <tr>\n",
       "      <th>2250</th>\n",
       "      <td>84.0</td>\n",
       "      <td>0.0</td>\n",
       "      <td>65.0</td>\n",
       "      <td>966.0</td>\n",
       "      <td>0.941704</td>\n",
       "      <td>1.0</td>\n",
       "      <td>0.563758</td>\n",
       "      <td>1.000000</td>\n",
       "      <td>0.721030</td>\n",
       "    </tr>\n",
       "    <tr>\n",
       "      <th>2500</th>\n",
       "      <td>78.0</td>\n",
       "      <td>0.0</td>\n",
       "      <td>71.0</td>\n",
       "      <td>966.0</td>\n",
       "      <td>0.936323</td>\n",
       "      <td>1.0</td>\n",
       "      <td>0.523490</td>\n",
       "      <td>1.000000</td>\n",
       "      <td>0.687225</td>\n",
       "    </tr>\n",
       "  </tbody>\n",
       "</table>\n",
       "</div>"
      ],
      "text/plain": [
       "              TP   FP     FN     TN  accuracy  precision    recall  \\\n",
       "train_size                                                           \n",
       "25           0.0  1.0  149.0  965.0  0.865471        0.0  0.000000   \n",
       "50           4.0  0.0  145.0  966.0  0.869955        1.0  0.026846   \n",
       "100         55.0  0.0   94.0  966.0  0.915695        1.0  0.369128   \n",
       "200         25.0  0.0  124.0  966.0  0.888789        1.0  0.167785   \n",
       "300         56.0  0.0   93.0  966.0  0.916592        1.0  0.375839   \n",
       "400         26.0  0.0  123.0  966.0  0.889686        1.0  0.174497   \n",
       "500         32.0  0.0  117.0  966.0  0.895067        1.0  0.214765   \n",
       "750         71.0  0.0   78.0  966.0  0.930045        1.0  0.476510   \n",
       "1000        80.0  0.0   69.0  966.0  0.938117        1.0  0.536913   \n",
       "1250        74.0  0.0   75.0  966.0  0.932735        1.0  0.496644   \n",
       "1500        72.0  0.0   77.0  966.0  0.930942        1.0  0.483221   \n",
       "1750        82.0  0.0   67.0  966.0  0.939910        1.0  0.550336   \n",
       "2000        73.0  0.0   76.0  966.0  0.931839        1.0  0.489933   \n",
       "2250        84.0  0.0   65.0  966.0  0.941704        1.0  0.563758   \n",
       "2500        78.0  0.0   71.0  966.0  0.936323        1.0  0.523490   \n",
       "\n",
       "            specificity        F1  \n",
       "train_size                         \n",
       "25             0.998965       NaN  \n",
       "50             1.000000  0.052288  \n",
       "100            1.000000  0.539216  \n",
       "200            1.000000  0.287356  \n",
       "300            1.000000  0.546341  \n",
       "400            1.000000  0.297143  \n",
       "500            1.000000  0.353591  \n",
       "750            1.000000  0.645455  \n",
       "1000           1.000000  0.698690  \n",
       "1250           1.000000  0.663677  \n",
       "1500           1.000000  0.651584  \n",
       "1750           1.000000  0.709957  \n",
       "2000           1.000000  0.657658  \n",
       "2250           1.000000  0.721030  \n",
       "2500           1.000000  0.687225  "
      ]
     },
     "execution_count": 12,
     "metadata": {},
     "output_type": "execute_result"
    }
   ],
   "source": [
    "scores.loc['NB']"
   ]
  },
  {
   "cell_type": "code",
   "execution_count": 13,
   "id": "cooperative-storm",
   "metadata": {},
   "outputs": [
    {
     "data": {
      "image/png": "[encoded data removed]",
      "text/plain": [
       "<Figure size 432x288 with 1 Axes>"
      ]
     },
     "metadata": {
      "needs_background": "light"
     },
     "output_type": "display_data"
    }
   ],
   "source": [
    "scores.loc['NB'].plot(use_index=True, y=['precision', 'recall', 'accuracy', 'F1']);"
   ]
  },
  {
   "cell_type": "markdown",
   "id": "blind-evans",
   "metadata": {},
   "source": [
    "Notice that precision (the amount of true positives out of all positives) is extremely high for all training sets, whereas recall barely reaches over 50% for just a few of the training sets. In other words, we make a lot of Type II errors, but hardly any (or none) Type I errors. This is a desirable property for a spam filter, because we would rather the user sees some spam, but doesn't miss any important messages rather than losing authentic texts to the spam filter. It would be worth experiment how precision and recall are affected if we use more balanced data."
   ]
  },
  {
   "cell_type": "code",
   "execution_count": 14,
   "id": "delayed-asian",
   "metadata": {
    "scrolled": true
   },
   "outputs": [
    {
     "data": {
      "image/png": "[encoded data removed]",
      "text/plain": [
       "<Figure size 504x288 with 1 Axes>"
      ]
     },
     "metadata": {
      "needs_background": "light"
     },
     "output_type": "display_data"
    }
   ],
   "source": [
    "# plot the learning curve\n",
    "\n",
    "fig, ax = plt.subplots(figsize=(7,4))\n",
    "ax.set(xlabel='Train size', ylabel='Error (%)')\n",
    "sns.lineplot(data=pd.melt(results.reset_index(), id_vars='index', value_vars=['scores_NB_train', 'scores_NB_val']),\n",
    "             x='index', y='value', hue='variable', ax=ax)\n",
    "plt.show()"
   ]
  },
  {
   "cell_type": "markdown",
   "id": "surface-safety",
   "metadata": {},
   "source": [
    "From the learning curve we notice that the errors stabilise fairly quickly (as we would expect for such a low variance model), but exhibits high bias as is expected from NB. On the other hand it is not clear whether the validation error could still be improved by increasing the size of the training set."
   ]
  },
  {
   "cell_type": "markdown",
   "id": "secondary-modification",
   "metadata": {},
   "source": [
    "## 6. SVM with simple SMO<a id=\"6\"></a>\n",
    "Next we'll implement an SVM algorithm (with linear kernel) by using a simplified version (as given in the lecture notes) of the [Sequential Minimal Optimisation](https://www.microsoft.com/en-us/research/wp-content/uploads/2016/02/tr-98-14.pdf) algorithm by J. Platt (1998). Recall that in SVM the objective is to solve the optimisation problem\n",
    "$$\\mathrm{argmin}_{w, b}\\tfrac{1}{2}\\lVert w\\rVert^{2}+C\\sum_{j=1}^{m}\\xi_{j},$$\n",
    "subject to\n",
    "$$y^{(i)}(w^{T}x^{(i)}+b)\\geq 1-\\xi_{i},$$\n",
    "$$\\xi_{i}\\geq 0,$$\n",
    "for all $i$. Here the $\\xi_{i}$'s control how much leeway we allow for the training examples to cross the functional margin of our classifier. To use SMO we consider the dual form of the problem:\n",
    "$$\\mathrm{argmax}_{\\alpha} \\sum_{i}\\alpha_{i} - \\tfrac{1}{2}\\sum_{i,j} y^{(i)}y^{(j)}\\alpha_{i}\\alpha_{j} K(x^{(i)}, x^{(j)})$$\n",
    "subject to\n",
    "$$0\\leq \\alpha_{i}\\leq C,$$\n",
    "$$\\sum_{i}\\alpha_{i}y^{(i)}=0,$$\n",
    "for all $i$. Here $K$ is the kernel function, but for simplicity we just use $K(a, b)= \\langle a, b\\rangle$ with the standard inner product on $\\mathbb{R}^{m}$. The final model can then be expressed in terms of the $\\alpha$ and $b$ parameters as\n",
    "$$h(x) = \\sum_{i}\\alpha_{i}y^{(i)}K(x^{(i)}, x) + b.$$\n",
    "\n",
    "The crux of the SMO algorithm is to optimise only two of the parameters, say, $\\alpha_{i}$ and $\\alpha_{j}$ at a time while keeping everything else fixed. In our implementation the main simplification versus the full algorithm is that we select the pair of parameters we want to minimise more or less at random (as opposed to a more sophisticated heuristic). This makes our code simpler at the expense of negatively affecting the convergence properties of the algorithm. The model takes 3 hyperparameters:\n",
    "- $C$ is the weight of the regularisation term in the cost function,\n",
    "- `max_passes` is the maximum number of times we iterate over the parameters without any of them changing (by more than $10^{-5}$),\n",
    "- `tol` controls the tolerance to which we want the KKT (Karush-Kuhn-Tucker) conditions to be satisfied before we terminate the algorithm. A typical default value is $10^{-3}$."
   ]
  },
  {
   "cell_type": "code",
   "execution_count": 15,
   "id": "historical-gardening",
   "metadata": {},
   "outputs": [],
   "source": [
    "# This helper function picks the correct lower (L) and upper (H) bounds for the alpha's in order to ensure\n",
    "# that they fall within the box given by the KKT conditions\n",
    "def pick_LH(i, j, y, alpha, C):   \n",
    "    if y[i] != y[j]:\n",
    "        L = max(0, alpha[j] - alpha[i])\n",
    "        H = min(C, C + alpha[j] - alpha[i])\n",
    "    else:\n",
    "        L = max(0, alpha[i] + alpha[j] - C)\n",
    "        H = min(C, alpha[i] + alpha[j])\n",
    "\n",
    "    return L, H\n",
    "    \n",
    "\n",
    "# We speed up the computation of the hypothesis function for vectors from our training set\n",
    "# since we have already computed the inner products\n",
    "def h_from_idx(j: int, inner_prods, y, alpha, b):  \n",
    "    return np.dot(np.multiply(alpha, y), inner_prods[:, j]) + b\n",
    "\n",
    "    \n",
    "def Simple_SMO(X, y, C, max_passes=5, tol = 0.001, K=lambda s: s):    \n",
    "    y = np.array(y).ravel()\n",
    "    m = X.shape[0]\n",
    "    \n",
    "    alpha = np.zeros((m))\n",
    "    b = 0\n",
    "    passes = 0\n",
    "    \n",
    "    inner_prods = K(X @ X.T)\n",
    "    \n",
    "    while passes < max_passes:\n",
    "        changed_alphas = 0\n",
    "        \n",
    "        for i in range(m):\n",
    "            alpha_i = alpha[i]\n",
    "            E_i = h_from_idx(i, inner_prods, y, alpha, b) - y[i]\n",
    "            \n",
    "            if ((y[i] * E_i < -tol) and (alpha_i < C) or\n",
    "                (y[i] * E_i > tol) and (alpha_i > 0)):\n",
    "                \n",
    "                rng = np.random.default_rng()\n",
    "                j = int(rng.choice(np.delete(alpha, i), 1).item())\n",
    "                alpha_j = alpha[j]\n",
    "                               \n",
    "                E_j = h_from_idx(j, inner_prods, y, alpha, b) - y[j]\n",
    "                \n",
    "                L, H = pick_LH(i, j, y, alpha, C)\n",
    "                \n",
    "                if L == H:\n",
    "                    continue\n",
    "                \n",
    "                eta = 2 * inner_prods[i, j] - inner_prods[i, i] - inner_prods[j, j]\n",
    "                \n",
    "                if eta >= 0:\n",
    "                    continue\n",
    "                \n",
    "                # we need to retain old alpha_j and alpha_i\n",
    "                alpha_j_cand = alpha_j - y[j] * (E_i - E_j) / eta\n",
    "                alpha_j_cand = min(max(alpha_j_cand, L), H)\n",
    "        \n",
    "                if abs(alpha_j_cand - alpha_j) < 10e-5:\n",
    "                    continue\n",
    "                \n",
    "                alpha_i_cand = alpha_i + y[i] * y[j] * (alpha_j - alpha_j_cand)\n",
    "                \n",
    "                b_1 = (b - E_i - y[i] * (alpha_i_cand - alpha_i) * inner_prods[i, i]\n",
    "                       - y[j] * (alpha_j_cand - alpha_j) * inner_prods[i, j])\n",
    "                b_2 = (b - E_j - y[i] * (alpha_i_cand - alpha_i) * inner_prods[i, j]\n",
    "                       - y[j] * (alpha_j_cand - alpha_j) * inner_prods[j, j])\n",
    "        \n",
    "                # now we can update alpha_i, j\n",
    "                alpha_i, alpha_j = alpha_i_cand, alpha_j_cand\n",
    "                alpha[i], alpha[j] = alpha_i, alpha_j\n",
    "                \n",
    "                changed_alphas += 1\n",
    "                \n",
    "                # if both alpha_i,j are < C then b_1 = b_2\n",
    "                if alpha_i > 0 and alpha_i < C:\n",
    "                    b = b_1\n",
    "                elif alpha_j > 0 and alpha_j < C:\n",
    "                    b = b_2\n",
    "                else:\n",
    "                    b = (b_1 + b_2) / 2\n",
    "                    \n",
    "        if changed_alphas == 0:\n",
    "            passes += 1\n",
    "        else:\n",
    "            passes = 0\n",
    "        \n",
    "    return alpha, b\n",
    "\n",
    "\n",
    "def SVM(X, y, C, max_passes=5, tol=0.001):  \n",
    "    alpha, b = Simple_SMO(X, y, C, max_passes, tol)\n",
    "    # we need to reconstruct the w vector from the alpha parameters given by the dual optimisation problem\n",
    "    w = np.sum(np.multiply(X, np.multiply(alpha, y).reshape(-1,1)), axis = 0).T\n",
    "\n",
    "    return w, b\n",
    "\n",
    "\n",
    "def predict_SVM(X, w, b):\n",
    "    # the separating hyperplane is X @ w + b = 0\n",
    "    return np.where((X @ w + b) > 0, 1, -1)"
   ]
  },
  {
   "cell_type": "markdown",
   "id": "reasonable-retreat",
   "metadata": {},
   "source": [
    "## 7. Train and predict with SVM<a id=\"7\"></a>\n",
    "\n",
    "Notice that sometimes when computing one of the metrics, we might end up dividing by zero (e.g. if everything is classified as negative for a small sample). We'll just ignore this and treat the value as NaN."
   ]
  },
  {
   "cell_type": "code",
   "execution_count": 16,
   "id": "expired-concrete",
   "metadata": {},
   "outputs": [
    {
     "name": "stderr",
     "output_type": "stream",
     "text": [
      "<ipython-input-10-f9a662f0f778>:20: RuntimeWarning: invalid value encountered in long_scalars\n",
      "  precision = TP / (TP + FP)\n"
     ]
    }
   ],
   "source": [
    "for size in train_size:\n",
    "    w, b = SVM(X_trains[size], y_trains[size], 1, max_passes=5)\n",
    "    \n",
    "    pred = predict_SVM(X_val, w, b)\n",
    "    results.loc[size, 'scores_SVM_val'] = getScore(pred, y_val)\n",
    "    scores.loc[('SVM', size)] = confusionMatrix(pred, y_val)\n",
    "    # and compute the train errors\n",
    "    pred = predict_SVM(X_trains[size], w, b)\n",
    "    results.loc[size, 'scores_SVM_train'] = getScore(pred, y_trains[size])"
   ]
  },
  {
   "cell_type": "code",
   "execution_count": 17,
   "id": "coupled-apparel",
   "metadata": {},
   "outputs": [
    {
     "data": {
      "image/png": "[encoded data removed]",
      "text/plain": [
       "<Figure size 504x288 with 1 Axes>"
      ]
     },
     "metadata": {
      "needs_background": "light"
     },
     "output_type": "display_data"
    }
   ],
   "source": [
    "fig, ax = plt.subplots(figsize=(7,4))\n",
    "ax.set(xlabel='Train size', ylabel='Error (%)')\n",
    "sns.lineplot(data=pd.melt(results.reset_index(), id_vars='index', value_vars=['scores_SVM_train', 'scores_SVM_val']),\n",
    "             x='index', y='value', hue='variable', ax=ax)\n",
    "plt.show()"
   ]
  },
  {
   "cell_type": "markdown",
   "id": "corresponding-renewal",
   "metadata": {},
   "source": [
    "It seems our model has fairly low bias with a little bit of variance, but based on the learning curves we would expect the model to converge to an almost optimal solution given more training data. We expect the irreducible error to be extremely small, because it's generally easy for humans to tell spam apart from authentic messages."
   ]
  },
  {
   "cell_type": "code",
   "execution_count": 18,
   "id": "abstract-honey",
   "metadata": {},
   "outputs": [
    {
     "data": {
      "image/png": "[encoded data removed]",
      "text/plain": [
       "<Figure size 504x288 with 1 Axes>"
      ]
     },
     "metadata": {
      "needs_background": "light"
     },
     "output_type": "display_data"
    }
   ],
   "source": [
    "#scores.reset_index('model')\n",
    "fig, ax = plt.subplots(figsize=(7,4))\n",
    "ax.set(xlabel='Train size', ylabel='F1 score')\n",
    "sns.lineplot(data=scores.reset_index(), x='train_size', y='F1', hue='model')\n",
    "plt.show()"
   ]
  },
  {
   "cell_type": "code",
   "execution_count": 19,
   "id": "fixed-diagram",
   "metadata": {},
   "outputs": [
    {
     "data": {
      "image/png": "[encoded data removed]",
      "text/plain": [
       "<Figure size 504x288 with 1 Axes>"
      ]
     },
     "metadata": {
      "needs_background": "light"
     },
     "output_type": "display_data"
    }
   ],
   "source": [
    "fig, ax = plt.subplots(figsize=(7,4))\n",
    "ax.set(xlabel='Train size', ylabel='Error (%)')\n",
    "sns.lineplot(data=pd.melt(results.reset_index(), id_vars='index', value_vars=['scores_NB_val', 'scores_SVM_val']),\n",
    "             x='index', y='value', hue='variable', ax=ax)\n",
    "plt.show()"
   ]
  },
  {
   "cell_type": "markdown",
   "id": "static-chess",
   "metadata": {},
   "source": [
    "We see that SVM does outperform NB as expected, although something unexpected happens around train size 2000. It could be interesting to investigate this further (e.g. what kind of messages get suddenly misclassified at such a higher rate). Moreover, we notice that even for small training set sizes our SVM algorithm performs very well. Typically we expect NB to beat SVM for very small samples since with NB there is no training involved and it makes much stronger assumptions (by fixing prior distributions)."
   ]
  },
  {
   "cell_type": "markdown",
   "id": "binding-fitness",
   "metadata": {},
   "source": [
    "## 8. Comparison with sklearn<a id=\"8\"></a>\n",
    "\n",
    "We again compare our models with the ones from `sklearn`. Keep in mind that `sklearn.svm.SVC` implements the full SMO algorithm."
   ]
  },
  {
   "cell_type": "code",
   "execution_count": 20,
   "id": "false-ticket",
   "metadata": {},
   "outputs": [],
   "source": [
    "from sklearn.svm import SVC\n",
    "from sklearn.naive_bayes import MultinomialNB\n",
    "\n",
    "for size in train_size:\n",
    "    model = MultinomialNB()\n",
    "    model.fit(X_trains[size], y_trains[size].ravel())\n",
    "    preds = model.predict(X_val)\n",
    "    results.loc[size, 'scores_NB_sklearn_val'] = getScore(preds, y_val)\n",
    "\n",
    "    model = SVC(kernel='linear', random_state=0)\n",
    "    model.fit(X_trains[size], y_trains[size].ravel())\n",
    "    preds = model.predict(X_val)\n",
    "    results.loc[size, 'scores_SVM_sklearn_val'] = getScore(preds, y_val)"
   ]
  },
  {
   "cell_type": "code",
   "execution_count": 21,
   "id": "removed-listening",
   "metadata": {},
   "outputs": [
    {
     "data": {
      "image/png": "[encoded data removed]",
      "text/plain": [
       "<Figure size 504x288 with 1 Axes>"
      ]
     },
     "metadata": {
      "needs_background": "light"
     },
     "output_type": "display_data"
    }
   ],
   "source": [
    "fig, ax = plt.subplots(figsize=(7,4))\n",
    "ax.set(xlabel='Train size', ylabel='Error (%)')\n",
    "sns.lineplot(data=pd.melt(results.reset_index(), id_vars='index',\n",
    "                          value_vars=['scores_NB_val', 'scores_SVM_val', 'scores_NB_sklearn_val', 'scores_SVM_sklearn_val']),\n",
    "             x='index', y='value', hue='variable', ax=ax)\n",
    "plt.show()"
   ]
  },
  {
   "cell_type": "markdown",
   "id": "bright-immunology",
   "metadata": {},
   "source": [
    "Unsurprisingly, the more complicated models perform extremely well for such a simple task given enough data. What _is_ surprising though is that sklearn's NB algorithm performs comparatively to (or even beats) all other models. This could be for two main reason: first, the problem is fairly simple and the prior distribution is accurate so NB is able to capture the features of the data fully and the stronger generalisation power of SVM's is not needed (nor useful); second, we haven't done any hyperparameter tuning and it's possible that we could further increase the performance of the SVM models and beat NB."
   ]
  },
  {
   "cell_type": "markdown",
   "id": "pregnant-commons",
   "metadata": {},
   "source": [
    "## 9. Next steps<a id=\"9\"></a>\n",
    "\n",
    "Here are some ideas for future work:\n",
    "\n",
    "- Implement alternative kernels. This is not too difficult, but we would need to change the logic a bit since the kernel matrix is needed at inference time.\n",
    "- Investigate sklearn's implementation of multinomial NB and try to understand why it does so much better than our version. "
   ]
  }
 ],
 "metadata": {
  "kernelspec": {
   "display_name": "Python 3",
   "language": "python",
   "name": "python3"
  },
  "language_info": {
   "codemirror_mode": {
    "name": "ipython",
    "version": 3
   },
   "file_extension": ".py",
   "mimetype": "text/x-python",
   "name": "python",
   "nbconvert_exporter": "python",
   "pygments_lexer": "ipython3",
   "version": "3.9.1"
  }
 },
 "nbformat": 4,
 "nbformat_minor": 5
}
