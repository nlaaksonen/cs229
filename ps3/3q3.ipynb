{
 "cells": [
  {
   "cell_type": "markdown",
   "id": "involved-substance",
   "metadata": {},
   "source": [
    "# Problem sheet 3 - Q3: $\\ell_{1}$-regularisation\n",
    "\n",
    "1. [Coordinate descent implementation](#1)\n",
    "2. [Evaluation](#2)\n",
    "3. [Next steps](#3)\n",
    "\n",
    "In a previous exercise we implemented gradient descent to minimise a loss function with an $\\ell_{2}$-regularisation term. In this exercise we wish to construct an algorithm to minimise $\\ell_{1}$-loss instead. That is, let\n",
    "$$J(\\theta) = \\tfrac{1}{2}(X\\theta-y)^{T}(X\\theta-y) + \\lambda\\lVert\\theta\\rVert_{1},$$\n",
    "where $X$ is the design matrix of our input data, $y$ are the labels, $\\lambda$ is a hyperparameter that controls the strength of regularisation, $\\theta$ is the parameter vector that we want to learn and $\\lVert\\cdot\\rVert_{1}$ denotes the $\\ell_{1}$-norm. $\\ell_{1}$-regularisation can be useful, because it often results in sparse solutions (unlike the $\\ell_{2}$-loss). As a heuristic, consider the two curves:\n",
    "\n",
    "![l1 vs l2 loss](l1l2_loss.jpg \"l1 vs l2 loss\")\n",
    "\n",
    "Now suppose that during gradient descent some of the variables that we are optimising start approaching zero. If we  use $\\ell_{2}$-regularisation then we see that the corresponding gradients will also approach zero, which slows down the decay. On the other hand, for $\\ell_{1}$-regularisation the gradient (where it exists) is piecewise-constant and thus for any decent classifier (where the loss is small) we expect that many weights are pushed down all the way to 0. Notice it is also possible to understand this phenomenon by considering the dual problem of minimising the unregularised loss subject to the $\\ell_{1}$-constraint $|\\theta_{i}|\\leq L$ for some fixed $L$ in which case the optimal contours of the loss (subject to the constraint) often fall on the axes.\n",
    "\n",
    "For this question we simulate our data as follows. First we generate 50 training data points by sampling from the multivariate normal distribution $N(0, I)$ and we also create the \"true\" sparse feature vector `theta_star` by using `scipy.sparse.random`. Finally, we construct the labels with the formula $y=X\\theta + 0.05\\Omega$, where the elements of $\\Omega$ are iid $\\omega_{i}\\sim N(0, 1)$."
   ]
  },
  {
   "cell_type": "code",
   "execution_count": 1,
   "id": "alternate-muslim",
   "metadata": {},
   "outputs": [],
   "source": [
    "%matplotlib inline\n",
    "import pandas as pd\n",
    "import numpy as np\n",
    "import matplotlib.pyplot as plt\n",
    "from math import sqrt\n",
    "plt.rcParams[\"mathtext.fontset\"] = \"dejavuserif\"\n",
    "from scipy.sparse import random as sparse_random\n",
    "\n",
    "dim = 100\n",
    "samples = 20\n",
    "rng = np.random.default_rng()\n",
    "\n",
    "X = rng.multivariate_normal(np.zeros(dim), np.identity(dim) * 1, size=samples)\n",
    "theta_star = sparse_random(dim, 1, density=0.1).toarray().ravel()\n",
    "y = (X @ theta_star + 0.05 * rng.standard_normal((samples))).ravel()"
   ]
  },
  {
   "cell_type": "markdown",
   "id": "hearing-spelling",
   "metadata": {},
   "source": [
    "## 1. Coordinate descent implementation <a id=\"1\"></a>\n",
    "\n",
    "Optimising cost functions with $\\ell_{1}$-terms is difficult, because they are no longer differentiable. To overcome this we use two tricks:\n",
    "1. We optimise $J(\\theta)$ with respect to only one coordinate at a time, say, $\\theta_{i}$.\n",
    "2. For this choice our objective function contains the non-differentiable term $|\\theta_{i}|=\\mathop{\\mathrm{sgn}}(\\theta_{i})\\cdot\\theta_{i}$. We separately consider both cases for the sign, compute the optimal $\\theta_{i}$ in either case and keep the one which minimises $J(\\theta)$."
   ]
  },
  {
   "cell_type": "code",
   "execution_count": 2,
   "id": "undefined-courtesy",
   "metadata": {},
   "outputs": [],
   "source": [
    "def cost(X, y, theta, l):\n",
    "    return 0.5 * np.sum(np.power((X @ theta - y), 2)) + l * np.sum(np.abs(theta))\n",
    "\n",
    "def coordDescent(X, y, l=0.1):   \n",
    "    change = 1\n",
    "    theta = np.ones(X.shape[1])\n",
    "    \n",
    "    while change > 10e-5:\n",
    "        theta_old = theta.copy()\n",
    "        for i in range(len(theta)):\n",
    "            theta_tilde = np.copy(theta)\n",
    "            theta_tilde[i] = 0\n",
    "            X_i = X[:, i]\n",
    "            num = - X_i.T @ (X @ theta_tilde - y)\n",
    "            denom = X_i.T @ X_i\n",
    "            \n",
    "            # we have to make sure that in the positive case the potential theta is actually positive\n",
    "            # and vice versa\n",
    "            theta_i_pos = max((num - l) / denom, 0)\n",
    "            theta_i_neg = min((num + l) / denom, 0)\n",
    "\n",
    "            theta_tilde_pos = np.copy(theta_tilde)\n",
    "            theta_tilde_pos[i] = theta_i_pos\n",
    "            theta_tilde_neg = np.copy(theta_tilde)\n",
    "            theta_tilde_neg[i] = theta_i_neg\n",
    "\n",
    "            if cost(X, y, theta_tilde_pos, l) <= cost(X, y, theta_tilde_neg, l):\n",
    "                theta[i] = theta_i_pos\n",
    "            else:\n",
    "                theta[i] = theta_i_neg\n",
    "        change = np.linalg.norm(theta_old - theta)\n",
    "        \n",
    "    return theta, cost(X, y, theta, l)"
   ]
  },
  {
   "cell_type": "markdown",
   "id": "amazing-reader",
   "metadata": {},
   "source": [
    "## 2. Evaluation<a id=\"2\"></a>\n",
    "\n",
    "We'll now apply our algorithm to the dataset that we generated for different values of $\\lambda$. We see that the performance increases roughly linearly as we decrease $\\lambda$ at the cost of longer training times."
   ]
  },
  {
   "cell_type": "code",
   "execution_count": 3,
   "id": "delayed-attempt",
   "metadata": {},
   "outputs": [
    {
     "name": "stdout",
     "output_type": "stream",
     "text": [
      "CPU times: user 7min 6s, sys: 3.58 s, total: 7min 10s\n",
      "Wall time: 7min 12s\n"
     ]
    }
   ],
   "source": [
    "%%time\n",
    "# we create a list of regularisation parameters weighted towards the smaller end\n",
    "\n",
    "l_range = np.square(np.linspace(sqrt(0.001), sqrt(10), 50))\n",
    "costs = [None] * len(l_range)\n",
    "theta_hats = [None] * len(l_range)\n",
    "diffs = [None] * len(l_range)\n",
    "\n",
    "for i, l in enumerate(l_range):\n",
    "    theta_hats[i], costs[i] = coordDescent(X, y, l)\n",
    "    diffs[i] = np.linalg.norm(theta_hats[i] - theta_star)"
   ]
  },
  {
   "cell_type": "code",
   "execution_count": 4,
   "id": "above-event",
   "metadata": {},
   "outputs": [
    {
     "data": {
      "image/png": "[encoded data removed]",
      "text/plain": [
       "<Figure size 432x288 with 1 Axes>"
      ]
     },
     "metadata": {
      "needs_background": "light"
     },
     "output_type": "display_data"
    }
   ],
   "source": [
    "fig, ax = plt.subplots(figsize=(6,4))\n",
    "ax.set_xlabel(r'$\\lambda$')\n",
    "ax.set_ylabel(r'$J(\\hat{\\theta})$')\n",
    "ax.plot(l_range, costs)\n",
    "plt.show()"
   ]
  },
  {
   "cell_type": "markdown",
   "id": "pressing-school",
   "metadata": {},
   "source": [
    "Since in this example we have access to the true parameter $\\theta^{\\ast}$, we can also look at the performance in terms of the norm of $\\hat{\\theta}-\\theta^{\\ast}$. We can see that our model is able to perform fairly well even though we stay far from the true value of $\\theta$ until $\\lambda$ is very small. One explanation could be that since we are working with a high-dimensional problem, even small errors in each of the coordinates of $\\theta$ can compound into a large distance from $\\theta^{\\ast}$ despite the resulting model being fairly accurate (cf. curse of dimensionality).\n",
    "\n",
    "**Remark**: The compounding of $\\ell_{1}$-error from small variations in high dimensional spaces is one of the key ideas for generating adversarial examples for deep neural networks.\n",
    "\n",
    "Finally, the fact that we end up with a sparse feature vector could be used as a form of dimensionality reduction, by discarding the features where $\\hat{\\theta}_{i}=0$ and then training a more complicated model out of the remaining ones."
   ]
  },
  {
   "cell_type": "code",
   "execution_count": 5,
   "id": "random-opinion",
   "metadata": {},
   "outputs": [
    {
     "data": {
      "image/png": "[encoded data removed]",
      "text/plain": [
       "<Figure size 432x288 with 1 Axes>"
      ]
     },
     "metadata": {
      "needs_background": "light"
     },
     "output_type": "display_data"
    }
   ],
   "source": [
    "fig, ax = plt.subplots(figsize=(6,4))\n",
    "ax.set_xlabel(r'$\\lambda$')\n",
    "ax.set_ylabel(r'$||\\theta^{\\ast}-\\hat{\\theta}||$')\n",
    "ax.plot(l_range, diffs)\n",
    "plt.show()"
   ]
  },
  {
   "cell_type": "markdown",
   "id": "documentary-background",
   "metadata": {},
   "source": [
    "## 3. Next steps<a id=\"3\"></a>\n",
    "\n",
    "- The algorithm is rather inefficient. One way to speed it up would be to consider more than one coordinate at a time. This leads to more cases to check at each iteration, but potentially faster convergence.\n",
    "- There are multiple other existing methods to minimise such loss functions (e.g. by approximating it with a differentiable one). Look into these and implement to compare performance with coordinate descent."
   ]
  }
 ],
 "metadata": {
  "kernelspec": {
   "display_name": "Python 3",
   "language": "python",
   "name": "python3"
  },
  "language_info": {
   "codemirror_mode": {
    "name": "ipython",
    "version": 3
   },
   "file_extension": ".py",
   "mimetype": "text/x-python",
   "name": "python",
   "nbconvert_exporter": "python",
   "pygments_lexer": "ipython3",
   "version": "3.9.1"
  }
 },
 "nbformat": 4,
 "nbformat_minor": 5
}
